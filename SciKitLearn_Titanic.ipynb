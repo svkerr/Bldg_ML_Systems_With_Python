{
 "metadata": {
  "name": "SciKitLearn_Titanic"
 },
 "nbformat": 3,
 "nbformat_minor": 0,
 "worksheets": [
  {
   "cells": [
    {
     "cell_type": "code",
     "collapsed": false,
     "input": [
      "import sklearn as sk\n",
      "import numpy as np\n",
      "import pandas as pd\n",
      "import matplotlib.pyplot as plt"
     ],
     "language": "python",
     "metadata": {},
     "outputs": [],
     "prompt_number": 17
    },
    {
     "cell_type": "markdown",
     "metadata": {},
     "source": [
      "Read in titanic data file using pandas"
     ]
    },
    {
     "cell_type": "code",
     "collapsed": false,
     "input": [
      "titanic = pd.read_csv('titanic2.csv')"
     ],
     "language": "python",
     "metadata": {},
     "outputs": [],
     "prompt_number": 130
    },
    {
     "cell_type": "code",
     "collapsed": false,
     "input": [
      "titanic.columns.values.tolist()"
     ],
     "language": "python",
     "metadata": {},
     "outputs": [
      {
       "output_type": "pyout",
       "prompt_number": 129,
       "text": [
        "['Unnamed: 0',\n",
        " 'pclass',\n",
        " 'survived',\n",
        " 'name',\n",
        " 'sex',\n",
        " 'age',\n",
        " 'sibsp',\n",
        " 'parch',\n",
        " 'ticket',\n",
        " 'fare',\n",
        " 'cabin',\n",
        " 'embarked',\n",
        " 'boat',\n",
        " 'body',\n",
        " 'home.dest']"
       ]
      }
     ],
     "prompt_number": 129
    },
    {
     "cell_type": "code",
     "collapsed": false,
     "input": [
      "print titanic.head()[['pclass', 'survived','age','embarked','boat','sex']]"
     ],
     "language": "python",
     "metadata": {},
     "outputs": [
      {
       "output_type": "stream",
       "stream": "stdout",
       "text": [
        "  pclass  survived      age     embarked boat     sex\n",
        "0    1st         1  29.0000  Southampton    2  female\n",
        "1    1st         1   0.9167  Southampton   11    male\n",
        "2    1st         0   2.0000  Southampton  NaN  female\n",
        "3    1st         0  30.0000  Southampton  NaN    male\n",
        "4    1st         0  25.0000  Southampton  NaN  female\n",
        "\n",
        "[5 rows x 6 columns]\n"
       ]
      }
     ],
     "prompt_number": 93
    },
    {
     "cell_type": "markdown",
     "metadata": {},
     "source": [
      "Remove some features that will add no value to our machine learning problem"
     ]
    },
    {
     "cell_type": "code",
     "collapsed": false,
     "input": [
      "titanic = titanic.drop(['cabin','body'],axis=1)\n",
      "titanic = titanic.drop(['Unnamed: 0'],axis=1)"
     ],
     "language": "python",
     "metadata": {},
     "outputs": []
    },
    {
     "cell_type": "markdown",
     "metadata": {},
     "source": [
      "Scikit-learn method expect real numbers as feature values. \n",
      "\n",
      "Here, we will use `DictVectorizer`, which automatically builds real valued features from categorical variables.  In addition, we will code a method to encode a set of columns in one unique step. "
     ]
    },
    {
     "cell_type": "code",
     "collapsed": false,
     "input": [
      "from sklearn import feature_extraction"
     ],
     "language": "python",
     "metadata": {},
     "outputs": [],
     "prompt_number": 56
    },
    {
     "cell_type": "code",
     "collapsed": false,
     "input": [
      "def one_hot_dataframe(data, cols, replace=False):\n",
      "    vec = feature_extraction.DictVectorizer()\n",
      "    vecData = pd.DataFrame(vec.fit_transform(data[cols].to_dict(outtype='records')).toarray())\n",
      "    vecData.columns = vec.get_feature_names()\n",
      "    vecData.index = data.index\n",
      "    if replace:\n",
      "        data = data.drop(cols,axis=1)\n",
      "        data = data.join(vecData)\n",
      "    return (data, vecData)"
     ],
     "language": "python",
     "metadata": {},
     "outputs": [],
     "prompt_number": 72
    },
    {
     "cell_type": "code",
     "collapsed": false,
     "input": [
      "titanic, titanic_n = one_hot_dataframe(titanic, ['pclass', 'embarked', 'sex'], replace=True)"
     ],
     "language": "python",
     "metadata": {},
     "outputs": [],
     "prompt_number": 134
    },
    {
     "cell_type": "markdown",
     "metadata": {},
     "source": [
      "We note by inspecting our results, that the `embarked` feature has not disappeared; due to the fact that the original `embarked` attribute included `NaN` values, indicating a missing value; in those cases, every feature based on embarked will be valued `0', but the original feature whose value is `NaN` remains. \n",
      "\n",
      "Now we encode the remaining categorical attributes:"
     ]
    },
    {
     "cell_type": "code",
     "collapsed": false,
     "input": [
      "titanic, titanic_n = one_hot_dataframe(titanic, ['home.dest','ticket','boat'], replace=True)"
     ],
     "language": "python",
     "metadata": {},
     "outputs": [],
     "prompt_number": 135
    },
    {
     "cell_type": "markdown",
     "metadata": {},
     "source": [
      "After this last categorical variable conversion, we expanded the number of features to over 1K"
     ]
    },
    {
     "cell_type": "markdown",
     "metadata": {},
     "source": [
      "We now need to handle missing values, since the DecisionTreeClassifier we plan to use does not admit them on input. Pandas can replace them with a fixed value using the `fillna` method. We will use the mean age for the `age` feature, and `0` for the remaining missing attributes. \n",
      "\n",
      "In Pandas, a way to find `NaN`s is to use the `pd.isnull()` function:"
     ]
    },
    {
     "cell_type": "code",
     "collapsed": false,
     "input": [
      "pd.isnull(titanic['age'])"
     ],
     "language": "python",
     "metadata": {},
     "outputs": [
      {
       "output_type": "pyout",
       "prompt_number": 110,
       "text": [
        "0     False\n",
        "1     False\n",
        "2     False\n",
        "3     False\n",
        "4     False\n",
        "5     False\n",
        "6     False\n",
        "7     False\n",
        "8     False\n",
        "9     False\n",
        "10    False\n",
        "11    False\n",
        "12    False\n",
        "13    False\n",
        "14    False\n",
        "...\n",
        "1294    False\n",
        "1295    False\n",
        "1296    False\n",
        "1297     True\n",
        "1298    False\n",
        "1299    False\n",
        "1300    False\n",
        "1301    False\n",
        "1302     True\n",
        "1303     True\n",
        "1304    False\n",
        "1305     True\n",
        "1306    False\n",
        "1307    False\n",
        "1308    False\n",
        "Name: age, Length: 1309, dtype: bool"
       ]
      }
     ],
     "prompt_number": 110
    },
    {
     "cell_type": "code",
     "collapsed": false,
     "input": [
      "mean = titanic['age'].mean()\n",
      "titanic['age'].fillna(mean, inplace=True)\n",
      "titanic.fillna(0, inplace=True)"
     ],
     "language": "python",
     "metadata": {},
     "outputs": [],
     "prompt_number": 136
    },
    {
     "cell_type": "markdown",
     "metadata": {},
     "source": [
      "Now, all of the features (except `name`) are in a suitable format. We will drop the `name` attribute since we do not expect it to be informative about predicting the survival status. We also specify the `survived` attribute as our target class and eliminate from the training class. \n",
      "\n",
      "We are ready to build the test and training sets."
     ]
    },
    {
     "cell_type": "code",
     "collapsed": false,
     "input": [
      "from sklearn.cross_validation import train_test_split"
     ],
     "language": "python",
     "metadata": {},
     "outputs": [],
     "prompt_number": 137
    },
    {
     "cell_type": "code",
     "collapsed": false,
     "input": [
      "titanic_target = titanic['survived']\n",
      "titanic_data = titanic.drop(['name', 'survived'], axis=1)"
     ],
     "language": "python",
     "metadata": {},
     "outputs": [],
     "prompt_number": 138
    },
    {
     "cell_type": "code",
     "collapsed": false,
     "input": [
      "X_train, X_test, y_train, y_test = train_test_split(titanic_data, titanic_target, test_size = 0.25, random_state=33)"
     ],
     "language": "python",
     "metadata": {},
     "outputs": [],
     "prompt_number": 139
    },
    {
     "cell_type": "markdown",
     "metadata": {},
     "source": [
      "Let's see how a decision tree works with current feature set:"
     ]
    },
    {
     "cell_type": "code",
     "collapsed": false,
     "input": [
      "from sklearn import tree"
     ],
     "language": "python",
     "metadata": {},
     "outputs": [],
     "prompt_number": 140
    },
    {
     "cell_type": "code",
     "collapsed": false,
     "input": [
      "dt = tree.DecisionTreeClassifier(criterion='entropy')"
     ],
     "language": "python",
     "metadata": {},
     "outputs": [],
     "prompt_number": 141
    },
    {
     "cell_type": "code",
     "collapsed": false,
     "input": [
      "dt = dt.fit(X_train, y_train)"
     ],
     "language": "python",
     "metadata": {},
     "outputs": [],
     "prompt_number": 142
    },
    {
     "cell_type": "code",
     "collapsed": false,
     "input": [
      "from sklearn import metrics"
     ],
     "language": "python",
     "metadata": {},
     "outputs": [],
     "prompt_number": 143
    },
    {
     "cell_type": "code",
     "collapsed": false,
     "input": [
      "y_pred = dt.predict(X_test)"
     ],
     "language": "python",
     "metadata": {},
     "outputs": [],
     "prompt_number": 144
    },
    {
     "cell_type": "code",
     "collapsed": false,
     "input": [
      "print \"Accuracy: {0:.3f}\".format(metrics.accuracy_score(y_test, y_pred)), \"\\n\""
     ],
     "language": "python",
     "metadata": {},
     "outputs": [
      {
       "output_type": "stream",
       "stream": "stdout",
       "text": [
        "Accuracy: 0.957 \n",
        "\n"
       ]
      }
     ],
     "prompt_number": 145
    },
    {
     "cell_type": "code",
     "collapsed": false,
     "input": [],
     "language": "python",
     "metadata": {},
     "outputs": [
      {
       "output_type": "stream",
       "stream": "stdout",
       "text": [
        "    survived                              name        age  sibsp  parch  \\\n",
        "0          1     Allen, Miss. Elisabeth Walton  29.000000      0      0   \n",
        "1          1    Allison, Master. Hudson Trevor   0.916700      1      2   \n",
        "2          0      Allison, Miss. Helen Loraine   2.000000      1      2   \n",
        "3          0   Allison, Mr. Hudson Joshua Crei  30.000000      1      2   \n",
        "4          0   Allison, Mrs. Hudson J C (Bessi  25.000000      1      2   \n",
        "5          1               Anderson, Mr. Harry  48.000000      0      0   \n",
        "6          1   Andrews, Miss. Kornelia Theodos  63.000000      1      0   \n",
        "7          0            Andrews, Mr. Thomas Jr  39.000000      0      0   \n",
        "8          1   Appleton, Mrs. Edward Dale (Cha  53.000000      2      0   \n",
        "9          0           Artagaveytia, Mr. Ramon  71.000000      0      0   \n",
        "10         0            Astor, Col. John Jacob  47.000000      1      0   \n",
        "11         1   Astor, Mrs. John Jacob (Madelei  18.000000      1      0   \n",
        "12         1     Aubart, Mme. Leontine Pauline  24.000000      0      0   \n",
        "13         1    Barber, Miss. Ellen \\\"Nellie\\\"  26.000000      0      0   \n",
        "14         1   Barkworth, Mr. Algernon Henry W  80.000000      0      0   \n",
        "15         0               Baumann, Mr. John D  29.881135      0      0   \n",
        "16         0          Baxter, Mr. Quigg Edmond  24.000000      0      1   \n",
        "17         1   Baxter, Mrs. James (Helene DeLa  50.000000      0      1   \n",
        "18         1             Bazzani, Miss. Albina  32.000000      0      0   \n",
        "19         0              Beattie, Mr. Thomson  36.000000      0      0   \n",
        "20         1     Beckwith, Mr. Richard Leonard  37.000000      1      1   \n",
        "21         1    Beckwith, Mrs. Richard Leonard  47.000000      1      1   \n",
        "22         1             Behr, Mr. Karl Howell  26.000000      0      0   \n",
        "23         1             Bidois, Miss. Rosalie  42.000000      0      0   \n",
        "24         1                 Bird, Miss. Ellen  29.000000      0      0   \n",
        "25         0               Birnbaum, Mr. Jakob  25.000000      0      0   \n",
        "26         1           Bishop, Mr. Dickinson H  25.000000      1      0   \n",
        "27         1   Bishop, Mrs. Dickinson H (Helen  19.000000      1      0   \n",
        "28         1            Bissette, Miss. Amelia  35.000000      0      0   \n",
        "29         1   Bjornstrom-Steffansson, Mr. Mau  28.000000      0      0   \n",
        "30         0      Blackwell, Mr. Stephen Weart  45.000000      0      0   \n",
        "31         1                  Blank, Mr. Henry  40.000000      0      0   \n",
        "32         1           Bonnell, Miss. Caroline  30.000000      0      0   \n",
        "33         1          Bonnell, Miss. Elizabeth  58.000000      0      0   \n",
        "34         0          Borebank, Mr. John James  42.000000      0      0   \n",
        "35         1          Bowen, Miss. Grace Scott  45.000000      0      0   \n",
        "36         1       Bowerman, Miss. Elsie Edith  22.000000      0      1   \n",
        "37         1  Bradley, Mr. George (\\\"George Ar  29.881135      0      0   \n",
        "38         0           Brady, Mr. John Bertram  41.000000      0      0   \n",
        "39         0                Brandeis, Mr. Emil  48.000000      0      0   \n",
        "40         0         Brewe, Dr. Arthur Jackson  29.881135      0      0   \n",
        "41         1   Brown, Mrs. James Joseph (Marga  44.000000      0      0   \n",
        "42         1   Brown, Mrs. John Murray (Caroli  59.000000      2      0   \n",
        "43         1   Bucknell, Mrs. William Robert (  60.000000      0      0   \n",
        "44         1   Burns, Miss. Elizabeth Margaret  41.000000      0      0   \n",
        "45         0   Butt, Major. Archibald Willingh  45.000000      0      0   \n",
        "46         0             Cairns, Mr. Alexander  29.881135      0      0   \n",
        "47         1   Calderhead, Mr. Edward Penningt  42.000000      0      0   \n",
        "48         1   Candee, Mrs. Edward (Helen Chur  53.000000      0      0   \n",
        "49         1   Cardeza, Mr. Thomas Drake Marti  36.000000      0      1   \n",
        "50         1   Cardeza, Mrs. James Warburton M  58.000000      0      1   \n",
        "51         0          Carlsson, Mr. Frans Olof  33.000000      0      0   \n",
        "52         0           Carrau, Mr. Francisco M  28.000000      0      0   \n",
        "53         0            Carrau, Mr. Jose Pedro  17.000000      0      0   \n",
        "54         1   Carter, Master. William Thornto  11.000000      1      2   \n",
        "55         1         Carter, Miss. Lucile Polk  14.000000      1      2   \n",
        "56         1        Carter, Mr. William Ernest  36.000000      1      2   \n",
        "57         1   Carter, Mrs. William Ernest (Lu  36.000000      1      2   \n",
        "58         0            Case, Mr. Howard Brown  49.000000      0      0   \n",
        "59         1   Cassebeer, Mrs. Henry Arthur Jr  29.881135      0      0   \n",
        "         ...                               ...        ...    ...    ...   \n",
        "\n",
        "          fare  embarked  embarked=Cherbourg  embarked=Queenstown  \\\n",
        "0   211.337494         0                   0                    0   \n",
        "1   151.550003         0                   0                    0   \n",
        "2   151.550003         0                   0                    0   \n",
        "3   151.550003         0                   0                    0   \n",
        "4   151.550003         0                   0                    0   \n",
        "5    26.549999         0                   0                    0   \n",
        "6    77.958298         0                   0                    0   \n",
        "7     0.000000         0                   0                    0   \n",
        "8    51.479199         0                   0                    0   \n",
        "9    49.504200         0                   1                    0   \n",
        "10  227.524994         0                   1                    0   \n",
        "11  227.524994         0                   1                    0   \n",
        "12   69.300003         0                   1                    0   \n",
        "13   78.849998         0                   0                    0   \n",
        "14   30.000000         0                   0                    0   \n",
        "15   25.924999         0                   0                    0   \n",
        "16  247.520798         0                   1                    0   \n",
        "17  247.520798         0                   1                    0   \n",
        "18   76.291702         0                   1                    0   \n",
        "19   75.241699         0                   1                    0   \n",
        "20   52.554199         0                   0                    0   \n",
        "21   52.554199         0                   0                    0   \n",
        "22   30.000000         0                   1                    0   \n",
        "23  227.524994         0                   1                    0   \n",
        "24  221.779205         0                   0                    0   \n",
        "25   26.000000         0                   1                    0   \n",
        "26   91.079201         0                   1                    0   \n",
        "27   91.079201         0                   1                    0   \n",
        "28  135.633301         0                   0                    0   \n",
        "29   26.549999         0                   0                    0   \n",
        "30   35.500000         0                   0                    0   \n",
        "31   31.000000         0                   1                    0   \n",
        "32  164.866699         0                   0                    0   \n",
        "33   26.549999         0                   0                    0   \n",
        "34   26.549999         0                   0                    0   \n",
        "35  262.375000         0                   1                    0   \n",
        "36   55.000000         0                   0                    0   \n",
        "37   26.549999         0                   0                    0   \n",
        "38   30.500000         0                   0                    0   \n",
        "39   50.495800         0                   1                    0   \n",
        "40   39.599998         0                   1                    0   \n",
        "41   27.720800         0                   1                    0   \n",
        "42   51.479199         0                   0                    0   \n",
        "43   76.291702         0                   1                    0   \n",
        "44  134.500000         0                   1                    0   \n",
        "45   26.549999         0                   0                    0   \n",
        "46   31.000000         0                   0                    0   \n",
        "47   26.287500         0                   0                    0   \n",
        "48   27.445801         0                   1                    0   \n",
        "49  512.329224         0                   1                    0   \n",
        "50  512.329224         0                   1                    0   \n",
        "51    5.000000         0                   0                    0   \n",
        "52   47.099998         0                   0                    0   \n",
        "53   47.099998         0                   0                    0   \n",
        "54  120.000000         0                   0                    0   \n",
        "55  120.000000         0                   0                    0   \n",
        "56  120.000000         0                   0                    0   \n",
        "57  120.000000         0                   0                    0   \n",
        "58   26.000000         0                   0                    0   \n",
        "59   27.720800         0                   1                    0   \n",
        "           ...       ...                 ...                  ...   \n",
        "\n",
        "    embarked=Southampton  pclass=1st  pclass=2nd  pclass=3rd  sex=female  \\\n",
        "0                      1           1           0           0           1   \n",
        "1                      1           1           0           0           0   \n",
        "2                      1           1           0           0           1   \n",
        "3                      1           1           0           0           0   \n",
        "4                      1           1           0           0           1   \n",
        "5                      1           1           0           0           0   \n",
        "6                      1           1           0           0           1   \n",
        "7                      1           1           0           0           0   \n",
        "8                      1           1           0           0           1   \n",
        "9                      0           1           0           0           0   \n",
        "10                     0           1           0           0           0   \n",
        "11                     0           1           0           0           1   \n",
        "12                     0           1           0           0           1   \n",
        "13                     1           1           0           0           1   \n",
        "14                     1           1           0           0           0   \n",
        "15                     1           1           0           0           0   \n",
        "16                     0           1           0           0           0   \n",
        "17                     0           1           0           0           1   \n",
        "18                     0           1           0           0           1   \n",
        "19                     0           1           0           0           0   \n",
        "20                     1           1           0           0           0   \n",
        "21                     1           1           0           0           1   \n",
        "22                     0           1           0           0           0   \n",
        "23                     0           1           0           0           1   \n",
        "24                     1           1           0           0           1   \n",
        "25                     0           1           0           0           0   \n",
        "26                     0           1           0           0           0   \n",
        "27                     0           1           0           0           1   \n",
        "28                     1           1           0           0           1   \n",
        "29                     1           1           0           0           0   \n",
        "30                     1           1           0           0           0   \n",
        "31                     0           1           0           0           0   \n",
        "32                     1           1           0           0           1   \n",
        "33                     1           1           0           0           1   \n",
        "34                     1           1           0           0           0   \n",
        "35                     0           1           0           0           1   \n",
        "36                     1           1           0           0           1   \n",
        "37                     1           1           0           0           0   \n",
        "38                     1           1           0           0           0   \n",
        "39                     0           1           0           0           0   \n",
        "40                     0           1           0           0           0   \n",
        "41                     0           1           0           0           1   \n",
        "42                     1           1           0           0           1   \n",
        "43                     0           1           0           0           1   \n",
        "44                     0           1           0           0           1   \n",
        "45                     1           1           0           0           0   \n",
        "46                     1           1           0           0           0   \n",
        "47                     1           1           0           0           0   \n",
        "48                     0           1           0           0           1   \n",
        "49                     0           1           0           0           0   \n",
        "50                     0           1           0           0           1   \n",
        "51                     1           1           0           0           0   \n",
        "52                     1           1           0           0           0   \n",
        "53                     1           1           0           0           0   \n",
        "54                     1           1           0           0           0   \n",
        "55                     1           1           0           0           1   \n",
        "56                     1           1           0           0           0   \n",
        "57                     1           1           0           0           1   \n",
        "58                     1           1           0           0           0   \n",
        "59                     0           1           0           0           1   \n",
        "                     ...         ...         ...         ...         ...   \n",
        "\n",
        "    sex=male  boat  boat=1  boat=10  boat=11  boat=12      \n",
        "0          0     0       0        0        0        0 ...  \n",
        "1          1     0       0        0        1        0 ...  \n",
        "2          0     0       0        0        0        0 ...  \n",
        "3          1     0       0        0        0        0 ...  \n",
        "4          0     0       0        0        0        0 ...  \n",
        "5          1     0       0        0        0        0 ...  \n",
        "6          0     0       0        1        0        0 ...  \n",
        "7          1     0       0        0        0        0 ...  \n",
        "8          0     0       0        0        0        0 ...  \n",
        "9          1     0       0        0        0        0 ...  \n",
        "10         1     0       0        0        0        0 ...  \n",
        "11         0     0       0        0        0        0 ...  \n",
        "12         0     0       0        0        0        0 ...  \n",
        "13         0     0       0        0        0        0 ...  \n",
        "14         1     0       0        0        0        0 ...  \n",
        "15         1     0       0        0        0        0 ...  \n",
        "16         1     0       0        0        0        0 ...  \n",
        "17         0     0       0        0        0        0 ...  \n",
        "18         0     0       0        0        0        0 ...  \n",
        "19         1     0       0        0        0        0 ...  \n",
        "20         1     0       0        0        0        0 ...  \n",
        "21         0     0       0        0        0        0 ...  \n",
        "22         1     0       0        0        0        0 ...  \n",
        "23         0     0       0        0        0        0 ...  \n",
        "24         0     0       0        0        0        0 ...  \n",
        "25         1     0       0        0        0        0 ...  \n",
        "26         1     0       0        0        0        0 ...  \n",
        "27         0     0       0        0        0        0 ...  \n",
        "28         0     0       0        0        0        0 ...  \n",
        "29         1     0       0        0        0        0 ...  \n",
        "30         1     0       0        0        0        0 ...  \n",
        "31         1     0       0        0        0        0 ...  \n",
        "32         0     0       0        0        0        0 ...  \n",
        "33         0     0       0        0        0        0 ...  \n",
        "34         1     0       0        0        0        0 ...  \n",
        "35         0     0       0        0        0        0 ...  \n",
        "36         0     0       0        0        0        0 ...  \n",
        "37         1     0       0        0        0        0 ...  \n",
        "38         1     0       0        0        0        0 ...  \n",
        "39         1     0       0        0        0        0 ...  \n",
        "40         1     0       0        0        0        0 ...  \n",
        "41         0     0       0        0        0        0 ...  \n",
        "42         0     0       0        0        0        0 ...  \n",
        "43         0     0       0        0        0        0 ...  \n",
        "44         0     0       0        0        0        0 ...  \n",
        "45         1     0       0        0        0        0 ...  \n",
        "46         1     0       0        0        0        0 ...  \n",
        "47         1     0       0        0        0        0 ...  \n",
        "48         0     0       0        0        0        0 ...  \n",
        "49         1     0       0        0        0        0 ...  \n",
        "50         0     0       0        0        0        0 ...  \n",
        "51         1     0       0        0        0        0 ...  \n",
        "52         1     0       0        0        0        0 ...  \n",
        "53         1     0       0        0        0        0 ...  \n",
        "54         1     0       0        0        0        0 ...  \n",
        "55         0     0       0        0        0        0 ...  \n",
        "56         1     0       0        0        0        0 ...  \n",
        "57         0     0       0        0        0        0 ...  \n",
        "58         1     0       0        0        0        0 ...  \n",
        "59         0     0       0        0        0        0 ...  \n",
        "         ...   ...     ...      ...      ...      ...      \n",
        "\n",
        "[1309 rows x 1341 columns]\n"
       ]
      }
     ],
     "prompt_number": 146
    }
   ],
   "metadata": {}
  }
 ]
}